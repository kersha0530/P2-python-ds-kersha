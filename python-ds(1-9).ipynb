{
 "cells": [
  {
   "cell_type": "markdown",
   "id": "fa1471b6-2db1-48c4-9119-dccb614c3698",
   "metadata": {},
   "source": [
    "# Web Mining and Applied NLP (44-620)\n",
    "## Python Notebooks, Basics, and Data Structures\n",
    "# Student Name: \n",
    "Kersha Broussard  \n",
    "# Student Number: \n",
    "919656979\n",
    "# GitHub: \n",
    "[https://github.com/kersha0530](https://github.com/kersha0530)\n"
   ]
  },
  {
   "cell_type": "markdown",
   "id": "ebe0ff4b-1b90-4010-ab16-63168186e847",
   "metadata": {},
   "source": [
    "## Question 1: Divide two numbers and print result"
   ]
  },
  {
   "cell_type": "code",
   "execution_count": 1,
   "id": "e80e09d0-b3ec-4535-a4b9-46ea3b4bc2b9",
   "metadata": {},
   "outputs": [
    {
     "name": "stdout",
     "output_type": "stream",
     "text": [
      "Result of dividing 20 by 5 is: 4.0\n"
     ]
    }
   ],
   "source": [
    "num1 = 20\n",
    "num2 = 5\n",
    "division_result = num1 / num2\n",
    "print(f\"Result of dividing {num1} by {num2} is: {division_result}\")\n"
   ]
  },
  {
   "cell_type": "markdown",
   "id": "54fae116-fb86-48d0-9134-2718c5207a49",
   "metadata": {},
   "source": [
    "## Question 2: Factorials from 1 through 10"
   ]
  },
  {
   "cell_type": "code",
   "execution_count": 2,
   "id": "d2c66b8e-f725-4e49-9468-819c9dac3563",
   "metadata": {},
   "outputs": [
    {
     "name": "stdout",
     "output_type": "stream",
     "text": [
      "\n",
      "Factorials from 1 to 10:\n",
      "Factorial of 1 is: 1\n",
      "Factorial of 2 is: 2\n",
      "Factorial of 3 is: 6\n",
      "Factorial of 4 is: 24\n",
      "Factorial of 5 is: 120\n",
      "Factorial of 6 is: 720\n",
      "Factorial of 7 is: 5040\n",
      "Factorial of 8 is: 40320\n",
      "Factorial of 9 is: 362880\n",
      "Factorial of 10 is: 3628800\n"
     ]
    }
   ],
   "source": [
    "print(\"\\nFactorials from 1 to 10:\")\n",
    "for i in range(1, 11):\n",
    "    factorial = 1\n",
    "    for j in range(1, i + 1):\n",
    "        factorial *= j\n",
    "    print(f\"Factorial of {i} is: {factorial}\")\n"
   ]
  },
  {
   "cell_type": "markdown",
   "id": "8507f623-a9d3-490c-aa9a-347cf5c1a1ad",
   "metadata": {},
   "source": [
    "## Question 3: Function to calculate the mean"
   ]
  },
  {
   "cell_type": "code",
   "execution_count": 3,
   "id": "4c8880bc-6770-4c22-be92-1c10e0888526",
   "metadata": {},
   "outputs": [
    {
     "name": "stdout",
     "output_type": "stream",
     "text": [
      "\n",
      "Mean of testlist: 0.0\n"
     ]
    }
   ],
   "source": [
    "def calculate_mean(numbers):\n",
    "    return sum(numbers) / len(numbers)\n",
    "\n",
    "testlist = [1, -1, 2, -2, 3, -3, 4, -4]\n",
    "mean_result = calculate_mean(testlist)\n",
    "print(f\"\\nMean of testlist: {mean_result}\")\n"
   ]
  },
  {
   "cell_type": "markdown",
   "id": "be0ff389-797a-4775-8781-cf9508b5c5ad",
   "metadata": {},
   "source": [
    "## Question 4: Function to calculate variance using list comprehension"
   ]
  },
  {
   "cell_type": "code",
   "execution_count": 4,
   "id": "4ad74e66-15e2-4fd7-8071-6c325708407c",
   "metadata": {},
   "outputs": [
    {
     "name": "stdout",
     "output_type": "stream",
     "text": [
      "Variance of list1: 1.13973309\n",
      "Variance of list2: 0.9257232841\n"
     ]
    }
   ],
   "source": [
    "def calculate_variance(numbers):\n",
    "    mean_val = calculate_mean(numbers)\n",
    "    squared_diffs = [(x - mean_val) ** 2 for x in numbers]\n",
    "    return sum(squared_diffs) / len(numbers)\n",
    "\n",
    "list1 = [ 5.670e-1, -1.480e+0, -5.570e-1, -1.470e+0, 7.340e-1,\n",
    "          1.050e+0, 4.480e-1, 2.570e-1, -1.970e+0, -1.460e+0]\n",
    "list2 = [-1.780e+0, 2.640e-1, 1.160e+0, 9.080e-1, 1.780e+0,\n",
    "          1.080e+0, 1.050e+0, -4.630e-2, 1.520e+0, 5.350e-1]\n",
    "\n",
    "print(f\"Variance of list1: {calculate_variance(list1)}\")\n",
    "print(f\"Variance of list2: {calculate_variance(list2)}\")\n"
   ]
  },
  {
   "cell_type": "markdown",
   "id": "e3f01a7c-bf07-409d-ba10-27b1de703644",
   "metadata": {},
   "source": [
    "## Question 5: List slicing"
   ]
  },
  {
   "cell_type": "code",
   "execution_count": 5,
   "id": "eed27391-937f-45fe-bf63-d771dacdd173",
   "metadata": {},
   "outputs": [
    {
     "name": "stdout",
     "output_type": "stream",
     "text": [
      "First 5 elements: [1, 2, 3, 4, 5]\n",
      "Last 5 elements: [16, 17, 18, 19, 20]\n",
      "List reversed: [20, 19, 18, 17, 16, 15, 14, 13, 12, 11, 10, 9, 8, 7, 6, 5, 4, 3, 2, 1]\n",
      "Every second element: [1, 3, 5, 7, 9, 11, 13, 15, 17, 19]\n",
      "Every third element: [1, 4, 7, 10, 13, 16, 19]\n"
     ]
    }
   ],
   "source": [
    "my_list = list(range(1, 21))  # 1 to 20\n",
    "\n",
    "print(\"First 5 elements:\", my_list[:5])\n",
    "print(\"Last 5 elements:\", my_list[-5:])\n",
    "print(\"List reversed:\", my_list[::-1])\n",
    "print(\"Every second element:\", my_list[::2])\n",
    "print(\"Every third element:\", my_list[::3])\n"
   ]
  },
  {
   "cell_type": "markdown",
   "id": "fa74e614-97e7-4a1d-83f1-0b303367860f",
   "metadata": {},
   "source": [
    "## Question 6: Class information dictionary\n"
   ]
  },
  {
   "cell_type": "code",
   "execution_count": 6,
   "id": "79901ac5-1280-467c-bd46-eab2fcfe7c3b",
   "metadata": {},
   "outputs": [
    {
     "name": "stdout",
     "output_type": "stream",
     "text": [
      "{'name': 'Web Mining and Applied NLP', 'course_number': '44-620', 'term': 'Summer 2025', 'credit_hours': 3, 'learning_objectives': ['Use Python to analyze unstructured web data', 'Apply natural language processing techniques', 'Work with HTML and XML content programmatically', 'Extract insights from textual data', 'Develop web data mining scripts using notebooks']}\n"
     ]
    }
   ],
   "source": [
    "course_info = {\n",
    "    \"name\": \"Web Mining and Applied NLP\",\n",
    "    \"course_number\": \"44-620\",\n",
    "    \"term\": \"Summer 2025\",\n",
    "    \"credit_hours\": 3,\n",
    "    \"learning_objectives\": [\n",
    "        \"Use Python to analyze unstructured web data\",\n",
    "        \"Apply natural language processing techniques\",\n",
    "        \"Work with HTML and XML content programmatically\",\n",
    "        \"Extract insights from textual data\",\n",
    "        \"Develop web data mining scripts using notebooks\"\n",
    "    ]\n",
    "}\n",
    "print(course_info)\n"
   ]
  },
  {
   "cell_type": "markdown",
   "id": "96af20c0-0c9c-4a81-b61f-7851d90aa662",
   "metadata": {},
   "source": [
    "## Question 7: Level 3 spells"
   ]
  },
  {
   "cell_type": "code",
   "execution_count": 7,
   "id": "cc0c361d-07ea-4b41-961c-bbe442977b31",
   "metadata": {},
   "outputs": [
    {
     "name": "stdout",
     "output_type": "stream",
     "text": [
      "Level 3 spells: ['Mass Healing Word', 'Nondetection', 'Revivify', 'Feign Death', 'Speak with Dead']\n"
     ]
    }
   ],
   "source": [
    "player_character = {\n",
    "    'name': 'Kitab',\n",
    "    'class': [('Cleric: Knowledge', 7)],\n",
    "    'spells': {\n",
    "        'cantrip': ['Guidance', 'Light', 'Thaumaturgy', 'Toll the Dead', 'Word of Radiance'],\n",
    "        'level 1': ['Command', 'Detect Magic', 'Healing Word', 'Identify', 'Sleep'],\n",
    "        'level 2': ['Augury', 'Calm Emotions', 'Command', 'Invisibility', 'Lesser Restoration'],\n",
    "        'level 3': ['Mass Healing Word', 'Nondetection', 'Revivify', 'Feign Death', 'Speak with Dead'],\n",
    "        'level 4': ['Banishment', 'Confusion']\n",
    "    }\n",
    "}\n",
    "print(\"Level 3 spells:\", player_character['spells']['level 3'])\n"
   ]
  },
  {
   "cell_type": "markdown",
   "id": "aa52c7fa-8488-4e4e-884d-39243f285c81",
   "metadata": {},
   "source": [
    "## Question 8: Count unique values using set()"
   ]
  },
  {
   "cell_type": "code",
   "execution_count": 8,
   "id": "c7bb2102-5692-469d-b6ce-c3eb113cad1d",
   "metadata": {},
   "outputs": [
    {
     "name": "stdout",
     "output_type": "stream",
     "text": [
      "Number of unique values: 12\n"
     ]
    }
   ],
   "source": [
    "values = [10, 11, 10, 8, 1, 12, 0, 1, 6, 5, 5, 13, 6, 15, 0, 0, 1, 1, 9, 7]\n",
    "unique_count = len(set(values))\n",
    "print(f\"Number of unique values: {unique_count}\")\n"
   ]
  },
  {
   "cell_type": "code",
   "execution_count": null,
   "id": "e1043547-78e6-4d5d-9734-9ce5e4f4796f",
   "metadata": {},
   "outputs": [],
   "source": []
  }
 ],
 "metadata": {
  "kernelspec": {
   "display_name": "Python 3 (ipykernel)",
   "language": "python",
   "name": "python3"
  },
  "language_info": {
   "codemirror_mode": {
    "name": "ipython",
    "version": 3
   },
   "file_extension": ".py",
   "mimetype": "text/x-python",
   "name": "python",
   "nbconvert_exporter": "python",
   "pygments_lexer": "ipython3",
   "version": "3.11.9"
  }
 },
 "nbformat": 4,
 "nbformat_minor": 5
}
